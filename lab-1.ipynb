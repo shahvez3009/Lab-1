{
 "cells": [
  {
   "cell_type": "markdown",
   "metadata": {},
   "source": [
    "## Imports"
   ]
  },
  {
   "cell_type": "code",
   "execution_count": 19,
   "metadata": {},
   "outputs": [],
   "source": [
    "import pandas as pd\n",
    "import numpy as np"
   ]
  },
  {
   "cell_type": "markdown",
   "metadata": {},
   "source": [
    "## Custom funtions"
   ]
  },
  {
   "cell_type": "code",
   "execution_count": 20,
   "metadata": {},
   "outputs": [],
   "source": [
    "# this is unfinished, finish this function!\n",
    "\n",
    "def grade_setter(x: int) -> str:\n",
    "    \"\"\"\n",
    "    This function takes in a number and returns a letter grade.\n",
    "    \"\"\"\n",
    "\n",
    "    if x == 0:\n",
    "        return \"Undefined Grade\"\n",
    "\n",
    "    if x <= 18:\n",
    "        return \"F\"\n",
    "    elif 19 <= x <= 39:\n",
    "        return \"E\"\n",
    "    elif 39 < x <= 58:\n",
    "        return \"D\"\n",
    "    elif 59 <= x <= 78:\n",
    "        return \"C\"\n",
    "    elif 79 <= x <= 93:\n",
    "        return \"B\"\n",
    "    elif x >= 94:\n",
    "        return \"A\"\n"
   ]
  },
  {
   "cell_type": "markdown",
   "metadata": {},
   "source": [
    "## Fetcing data from csv"
   ]
  },
  {
   "cell_type": "code",
   "execution_count": 21,
   "metadata": {},
   "outputs": [],
   "source": [
    "# Reading data\n",
    "df = pd.read_csv(\"students.csv\")"
   ]
  },
  {
   "cell_type": "markdown",
   "metadata": {},
   "source": [
    "## Exploring data\n",
    "\n",
    "There are more functions than just the code block beneath to explore the data!"
   ]
  },
  {
   "cell_type": "code",
   "execution_count": 22,
   "metadata": {},
   "outputs": [
    {
     "name": "stdout",
     "output_type": "stream",
     "text": [
      "<class 'pandas.core.frame.DataFrame'>\n",
      "RangeIndex: 50 entries, 0 to 49\n",
      "Data columns (total 5 columns):\n",
      " #   Column      Non-Null Count  Dtype  \n",
      "---  ------      --------------  -----  \n",
      " 0   StudentID   50 non-null     int64  \n",
      " 1   Age         50 non-null     int64  \n",
      " 2   email       50 non-null     object \n",
      " 3   hrsStudy    50 non-null     object \n",
      " 4   FinalGrade  49 non-null     float64\n",
      "dtypes: float64(1), int64(2), object(2)\n",
      "memory usage: 2.1+ KB\n"
     ]
    }
   ],
   "source": [
    "df\n",
    "\n",
    "df.describe()\n",
    "\n",
    "df.info()"
   ]
  },
  {
   "cell_type": "markdown",
   "metadata": {},
   "source": [
    "## Data Cleaning\n",
    "\n",
    "Here you should do what is needed to remove NaN values"
   ]
  },
  {
   "cell_type": "code",
   "execution_count": 23,
   "metadata": {},
   "outputs": [
    {
     "data": {
      "text/plain": [
       "StudentID     0\n",
       "Age           0\n",
       "email         0\n",
       "hrsStudy      0\n",
       "FinalGrade    0\n",
       "dtype: int64"
      ]
     },
     "execution_count": 23,
     "metadata": {},
     "output_type": "execute_result"
    }
   ],
   "source": [
    "\n",
    "df.isnull().sum()\n",
    "df = df.fillna(0)\n",
    "df.isna().sum()"
   ]
  },
  {
   "cell_type": "markdown",
   "metadata": {},
   "source": [
    "## Feature Engineering - Making Letter Grade"
   ]
  },
  {
   "cell_type": "code",
   "execution_count": 24,
   "metadata": {},
   "outputs": [
    {
     "data": {
      "text/plain": [
       "C                  13\n",
       "E                  13\n",
       "D                  11\n",
       "B                   8\n",
       "A                   4\n",
       "Undefined Grade     1\n",
       "Name: LetterGrade, dtype: int64"
      ]
     },
     "execution_count": 24,
     "metadata": {},
     "output_type": "execute_result"
    }
   ],
   "source": [
    "# How to apply a function to a column\n",
    "df[\"LetterGrade\"] = df[\"FinalGrade\"].apply(lambda x: grade_setter(x))\n",
    "df[\"LetterGrade\"].value_counts()\n"
   ]
  }
 ],
 "metadata": {
  "kernelspec": {
   "display_name": "Python 3.8.13 ('intro-ai')",
   "language": "python",
   "name": "python3"
  },
  "language_info": {
   "codemirror_mode": {
    "name": "ipython",
    "version": 3
   },
   "file_extension": ".py",
   "mimetype": "text/x-python",
   "name": "python",
   "nbconvert_exporter": "python",
   "pygments_lexer": "ipython3",
   "version": "3.8.13"
  },
  "orig_nbformat": 4,
  "vscode": {
   "interpreter": {
    "hash": "8aa6e3026fa60eea343972c21fc82c69c8db4bc34140c207539f4de9f469798c"
   }
  }
 },
 "nbformat": 4,
 "nbformat_minor": 2
}
